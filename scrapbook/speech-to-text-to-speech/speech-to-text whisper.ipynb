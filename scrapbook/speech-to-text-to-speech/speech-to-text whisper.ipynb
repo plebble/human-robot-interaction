{
 "cells": [
  {
   "cell_type": "code",
   "execution_count": 1,
   "metadata": {
    "scrolled": true
   },
   "outputs": [
    {
     "name": "stdout",
     "output_type": "stream",
     "text": [
      "I believe you're just talking nonsense\n"
     ]
    }
   ],
   "source": [
    "\n",
    "\n",
    "import speech_recognition as sr\n",
    "\n",
    "test_filename = \"sample.wav\"\n",
    "\n",
    "r = sr.Recognizer()\n",
    "data = sr.AudioFile(test_filename)\n",
    "with data as source:\n",
    "    audio = r.record(source)\n",
    "\n",
    "print(r.recognize_google(audio))"
   ]
  },
  {
   "cell_type": "code",
   "execution_count": 2,
   "metadata": {},
   "outputs": [
    {
     "name": "stdout",
     "output_type": "stream",
     "text": [
      "\"HDA Intel PCH: ALC3266 Analog (hw:0,0)\" : 0\n",
      "\"HDA Intel PCH: HDMI 0 (hw:0,3)\" : 1\n",
      "\"HDA Intel PCH: HDMI 1 (hw:0,7)\" : 2\n",
      "\"HDA Intel PCH: HDMI 2 (hw:0,8)\" : 3\n",
      "\"HDA Intel PCH: HDMI 3 (hw:0,9)\" : 4\n",
      "\"HDA Intel PCH: HDMI 4 (hw:0,10)\" : 5\n",
      "\"Arctis Pro Wireless: USB Audio (hw:1,0)\" : 6\n",
      "Found mic with target name\n",
      "\"Arctis Pro Wireless: USB Audio #1 (hw:1,1)\" : 7\n",
      "Found mic with target name\n",
      "\"sysdefault\" : 8\n",
      "\"front\" : 9\n",
      "\"surround40\" : 10\n",
      "\"surround51\" : 11\n",
      "\"surround71\" : 12\n",
      "\"hdmi\" : 13\n",
      "\"samplerate\" : 14\n",
      "\"speexrate\" : 15\n",
      "\"pulse\" : 16\n",
      "\"upmix\" : 17\n",
      "\"vdownmix\" : 18\n",
      "\"dmix\" : 19\n",
      "\"default\" : 20\n"
     ]
    },
    {
     "name": "stderr",
     "output_type": "stream",
     "text": [
      "ALSA lib pcm.c:2642:(snd_pcm_open_noupdate) Unknown PCM cards.pcm.rear\n",
      "ALSA lib pcm.c:2642:(snd_pcm_open_noupdate) Unknown PCM cards.pcm.center_lfe\n",
      "ALSA lib pcm.c:2642:(snd_pcm_open_noupdate) Unknown PCM cards.pcm.side\n",
      "ALSA lib pcm_route.c:869:(find_matching_chmap) Found no matching channel map\n",
      "ALSA lib pcm_route.c:869:(find_matching_chmap) Found no matching channel map\n",
      "ALSA lib pcm_route.c:869:(find_matching_chmap) Found no matching channel map\n",
      "ALSA lib pcm_route.c:869:(find_matching_chmap) Found no matching channel map\n",
      "ALSA lib pcm_oss.c:377:(_snd_pcm_oss_open) Unknown field port\n",
      "ALSA lib pcm_oss.c:377:(_snd_pcm_oss_open) Unknown field port\n",
      "ALSA lib pcm_usb_stream.c:486:(_snd_pcm_usb_stream_open) Invalid type for card\n",
      "ALSA lib pcm_usb_stream.c:486:(_snd_pcm_usb_stream_open) Invalid type for card\n",
      "ALSA lib pcm.c:2642:(snd_pcm_open_noupdate) Unknown PCM cards.pcm.rear\n",
      "ALSA lib pcm.c:2642:(snd_pcm_open_noupdate) Unknown PCM cards.pcm.center_lfe\n",
      "ALSA lib pcm.c:2642:(snd_pcm_open_noupdate) Unknown PCM cards.pcm.side\n",
      "ALSA lib pcm_route.c:869:(find_matching_chmap) Found no matching channel map\n",
      "ALSA lib pcm_route.c:869:(find_matching_chmap) Found no matching channel map\n",
      "ALSA lib pcm_route.c:869:(find_matching_chmap) Found no matching channel map\n",
      "ALSA lib pcm_route.c:869:(find_matching_chmap) Found no matching channel map\n",
      "ALSA lib pcm_oss.c:377:(_snd_pcm_oss_open) Unknown field port\n",
      "ALSA lib pcm_oss.c:377:(_snd_pcm_oss_open) Unknown field port\n",
      "ALSA lib pcm_usb_stream.c:486:(_snd_pcm_usb_stream_open) Invalid type for card\n",
      "ALSA lib pcm_usb_stream.c:486:(_snd_pcm_usb_stream_open) Invalid type for card\n"
     ]
    }
   ],
   "source": [
    "device_label = \"Arctis Pro Wireless: USB Audio\" # for Logitech C920\n",
    "#device_label = \"USB 2.0 Camera: Audio\" # for the Nulea cameras\n",
    "#device_label = \"USB Device 0x46d:0x825\" # for the logitech c270 camera (non-functional)\n",
    "# Arctis Pro Wireless: USB Audio\n",
    "\n",
    "mic_index = -1\n",
    "\n",
    "try:\n",
    "    del mic\n",
    "except NameError:\n",
    "    pass\n",
    "\n",
    "for index, name in enumerate(sr.Microphone.list_microphone_names()):\n",
    "    print(\"\\\"{1}\\\" : {0}\".format(index, name))\n",
    "    if name.startswith(device_label):\n",
    "        mic_index = index\n",
    "        print(\"Found mic with target name\")\n",
    "        break\n",
    "        \n",
    "if mic_index == -1:\n",
    "    print(\"could not find mic with target name, using default\")\n",
    "\n",
    "if mic_index != -1:\n",
    "    mic = sr.Microphone(device_index=mic_index)\n",
    "else:\n",
    "    mic = sr.Microphone()\n",
    "\n",
    "r.dynamic_energy_threshold = False\n",
    "r.energy_threshold = 180"
   ]
  },
  {
   "cell_type": "code",
   "execution_count": 3,
   "metadata": {},
   "outputs": [
    {
     "ename": "SyntaxError",
     "evalue": "unexpected EOF while parsing (280875013.py, line 22)",
     "output_type": "error",
     "traceback": [
      "\u001b[0;36m  Cell \u001b[0;32mIn [3], line 22\u001b[0;36m\u001b[0m\n\u001b[0;31m    \u001b[0m\n\u001b[0m    ^\u001b[0m\n\u001b[0;31mSyntaxError\u001b[0m\u001b[0;31m:\u001b[0m unexpected EOF while parsing\n"
     ]
    }
   ],
   "source": [
    "import time\n",
    "\n",
    "def save_audio(audio,filename):\n",
    "    with open(filename,\"wb\") as file:\n",
    "        file.write(audio.get_wav_data())\n",
    "\n",
    "print(\"running\")\n",
    "with mic as source:\n",
    "    #r.adjust_for_ambient_noise(source)\n",
    "    \n",
    "    audio = r.listen(source)\n",
    "    save_audio(audio,\"temp.wav\")\n",
    "\n",
    "    print(\"stopped listening, sending audio...\")\n",
    "    try:\n",
    "        recognised_text = r.recognize_google(audio)\n",
    "        print(\"speech recognised as:\",recognised_text)\n",
    "    except sr.UnknownValueError:\n",
    "        print(\"no rec\")\n",
    "        \n",
    "\n",
    "    "
   ]
  },
  {
   "cell_type": "code",
   "execution_count": null,
   "metadata": {},
   "outputs": [],
   "source": [
    "try:\n",
    "    data = sr.AudioFile(filename)\n",
    "except FileNotFoundError:\n",
    "    print(\"File not found\")\n",
    "    \n",
    "with data as source:\n",
    "    audio = r.record(source)\n",
    "\n",
    "try:\n",
    "    recognised_text = r.recognize_google(audio)\n",
    "    print(\"speech recognised as:\",recognised_text)\n",
    "    print(\"(this should be the same as the one from the previous cell)\")\n",
    "except sr.UnknownValueError:\n",
    "    print(\"Failed to recognised audio, hopefully this is also the case for the previous cell\")"
   ]
  },
  {
   "cell_type": "code",
   "execution_count": null,
   "metadata": {},
   "outputs": [],
   "source": [
    "import pyttsx3\n",
    "tts_engine = pyttsx3.init()\n",
    "\n",
    "try:\n",
    "    tts_engine.say(recognised_text)\n",
    "\n",
    "except NameError:\n",
    "    tts_engine.say(\"Cannot find previous recognition example\")\n",
    "\n",
    "tts_engine.runAndWait()"
   ]
  }
 ],
 "metadata": {
  "kernelspec": {
   "display_name": "Python 3.8.10 64-bit",
   "language": "python",
   "name": "python3"
  },
  "language_info": {
   "codemirror_mode": {
    "name": "ipython",
    "version": 3
   },
   "file_extension": ".py",
   "mimetype": "text/x-python",
   "name": "python",
   "nbconvert_exporter": "python",
   "pygments_lexer": "ipython3",
   "version": "3.8.10"
  },
  "vscode": {
   "interpreter": {
    "hash": "916dbcbb3f70747c44a77c7bcd40155683ae19c65e1c03b4aa3499c5328201f1"
   }
  }
 },
 "nbformat": 4,
 "nbformat_minor": 2
}
