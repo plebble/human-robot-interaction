{
 "cells": [
  {
   "cell_type": "code",
   "execution_count": 1,
   "metadata": {
    "scrolled": true
   },
   "outputs": [
    {
     "name": "stdout",
     "output_type": "stream",
     "text": [
      "I believe you're just talking nonsense\n"
     ]
    }
   ],
   "source": [
    "\"\"\"\n",
    "\n",
    "Idea:\n",
    "experiment with speech recognition, taking audio from microphone, and outputting as text.\n",
    "\n",
    "sources/documentation:\n",
    "https://realpython.com/python-speech-recognition/\n",
    "    install pyaudio using https://stackoverflow.com/a/60666220\n",
    "        >sudo apt-get install portaudio19-dev python3-pyaudio\n",
    "        >pip install PyAudio\n",
    "\n",
    "\"\"\"\n",
    "\n",
    "import speech_recognition as sr\n",
    "r = sr.Recognizer()\n",
    "\n",
    "filename = \"sample.wav\"\n",
    "\n",
    "r = sr.Recognizer()\n",
    "data = sr.AudioFile(filename)\n",
    "with data as source:\n",
    "    audio = r.record(source)\n",
    "\n",
    "print(r.recognize_google(audio))"
   ]
  },
  {
   "cell_type": "code",
   "execution_count": 2,
   "metadata": {},
   "outputs": [
    {
     "name": "stdout",
     "output_type": "stream",
     "text": [
      "Microphone with name \"tegra-hda: HDMI 0 (hw:0,3)\" found for `Microphone(device_index=0)`\n",
      "Microphone with name \"tegra-snd-t210ref-mobile-rt565x: - (hw:1,0)\" found for `Microphone(device_index=1)`\n",
      "Microphone with name \"tegra-snd-t210ref-mobile-rt565x: - (hw:1,1)\" found for `Microphone(device_index=2)`\n",
      "Microphone with name \"tegra-snd-t210ref-mobile-rt565x: - (hw:1,2)\" found for `Microphone(device_index=3)`\n",
      "Microphone with name \"tegra-snd-t210ref-mobile-rt565x: - (hw:1,3)\" found for `Microphone(device_index=4)`\n",
      "Microphone with name \"tegra-snd-t210ref-mobile-rt565x: - (hw:1,4)\" found for `Microphone(device_index=5)`\n",
      "Microphone with name \"tegra-snd-t210ref-mobile-rt565x: - (hw:1,5)\" found for `Microphone(device_index=6)`\n",
      "Microphone with name \"tegra-snd-t210ref-mobile-rt565x: - (hw:1,6)\" found for `Microphone(device_index=7)`\n",
      "Microphone with name \"tegra-snd-t210ref-mobile-rt565x: - (hw:1,7)\" found for `Microphone(device_index=8)`\n",
      "Microphone with name \"tegra-snd-t210ref-mobile-rt565x: - (hw:1,8)\" found for `Microphone(device_index=9)`\n",
      "Microphone with name \"tegra-snd-t210ref-mobile-rt565x: - (hw:1,9)\" found for `Microphone(device_index=10)`\n",
      "Microphone with name \"HD Pro Webcam C920: USB Audio (hw:2,0)\" found for `Microphone(device_index=11)`\n",
      "Microphone with name \"hdmi\" found for `Microphone(device_index=12)`\n",
      "Microphone with name \"pulse\" found for `Microphone(device_index=13)`\n",
      "Microphone with name \"music\" found for `Microphone(device_index=14)`\n",
      "Microphone with name \"demixer\" found for `Microphone(device_index=15)`\n",
      "Microphone with name \"voice\" found for `Microphone(device_index=16)`\n",
      "Microphone with name \"music_and_voice\" found for `Microphone(device_index=17)`\n",
      "Microphone with name \"default\" found for `Microphone(device_index=18)`\n"
     ]
    }
   ],
   "source": [
    "device_label = \"HD Pro Webcam C920\"\n",
    "\n",
    "mic_index = -1\n",
    "\n",
    "for index, name in enumerate(sr.Microphone.list_microphone_names()):\n",
    "    print(\"Microphone with name \\\"{1}\\\" found for `Microphone(device_index={0})`\".format(index, name))\n",
    "    if name.startswith(device_label):\n",
    "        mic_index = index\n",
    "        print(\"Found mic with target name\")\n",
    "        \n",
    "if mic_index == -1:\n",
    "    print(\"could not find mic with target name, using default\")"
   ]
  },
  {
   "cell_type": "code",
   "execution_count": 4,
   "metadata": {},
   "outputs": [
    {
     "name": "stdout",
     "output_type": "stream",
     "text": [
      "tegra-hda: HDMI 0 (hw:0,3)\n",
      "tegra-snd-t210ref-mobile-rt565x: - (hw:1,0)\n",
      "tegra-snd-t210ref-mobile-rt565x: - (hw:1,1)\n",
      "tegra-snd-t210ref-mobile-rt565x: - (hw:1,2)\n",
      "tegra-snd-t210ref-mobile-rt565x: - (hw:1,3)\n",
      "tegra-snd-t210ref-mobile-rt565x: - (hw:1,4)\n",
      "tegra-snd-t210ref-mobile-rt565x: - (hw:1,5)\n",
      "tegra-snd-t210ref-mobile-rt565x: - (hw:1,6)\n",
      "tegra-snd-t210ref-mobile-rt565x: - (hw:1,7)\n",
      "tegra-snd-t210ref-mobile-rt565x: - (hw:1,8)\n",
      "tegra-snd-t210ref-mobile-rt565x: - (hw:1,9)\n",
      "HD Pro Webcam C920: USB Audio (hw:2,0)\n",
      "hdmi\n",
      "pulse\n",
      "music\n",
      "demixer\n",
      "voice\n",
      "music_and_voice\n",
      "default\n",
      "running\n",
      "stopped listening, sending audio...\n",
      "hello can you hear me\n"
     ]
    }
   ],
   "source": [
    "mic_list = sr.Microphone.list_microphone_names()\n",
    "    \n",
    "if mic_index = -1:\n",
    "    mic = sr.Microphone(device_index=mic_index)\n",
    "else:\n",
    "    mic = sr.Microphone()\n",
    "\n",
    "print(\"running\")\n",
    "with mic as source:\n",
    "    r.adjust_for_ambient_noise(source)\n",
    "    audio = r.listen(source)\n",
    "\n",
    "print(\"stopped listening, sending audio...\")\n",
    "print(r.recognize_google(audio))"
   ]
  }
 ],
 "metadata": {
  "kernelspec": {
   "display_name": "Python 3",
   "language": "python",
   "name": "python3"
  },
  "language_info": {
   "codemirror_mode": {
    "name": "ipython",
    "version": 3
   },
   "file_extension": ".py",
   "mimetype": "text/x-python",
   "name": "python",
   "nbconvert_exporter": "python",
   "pygments_lexer": "ipython3",
   "version": "3.6.9"
  },
  "vscode": {
   "interpreter": {
    "hash": "51acfa6005ffec5e74e71d844e0daa05d24ac78244a0bb1b7874b497027552e7"
   }
  }
 },
 "nbformat": 4,
 "nbformat_minor": 2
}
