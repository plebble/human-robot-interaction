{
 "cells": [
  {
   "cell_type": "code",
   "execution_count": null,
   "metadata": {},
   "outputs": [],
   "source": [
    "# initialise and test speech recognition\n",
    "import speech_recognition as sr\n",
    "\n",
    "test_filename = \"sample.wav\"\n",
    "\n",
    "r = sr.Recognizer()\n",
    "data = sr.AudioFile(test_filename)\n",
    "with data as source:\n",
    "    audio = r.record(source)\n",
    "\n",
    "print(r.recognize_google(audio))"
   ]
  },
  {
   "cell_type": "code",
   "execution_count": null,
   "metadata": {},
   "outputs": [],
   "source": [
    "import pyttsx3\n",
    "tts_engine = pyttsx3.init()\n",
    "\n",
    "tts_engine.say(\"checking tts\")\n",
    "\n",
    "tts_engine.runAndWait()"
   ]
  },
  {
   "cell_type": "code",
   "execution_count": null,
   "metadata": {},
   "outputs": [],
   "source": [
    "# initialise and test Robot core\n",
    "\n",
    "from RobotClass import Robot\n",
    "import time\n",
    "\n",
    "robot = Robot()\n",
    "\n",
    "robot.forward(0.3)\n",
    "time.sleep(0.25)\n",
    "robot.backward(0.3)\n",
    "time.sleep(0.25)\n",
    "robot.stop()"
   ]
  },
  {
   "cell_type": "code",
   "execution_count": null,
   "metadata": {},
   "outputs": [],
   "source": [
    " # Find the correct microphone\n",
    "\n",
    "device_label = \"HD Pro Webcam C920\" # for Logitech C920\n",
    "#device_label = \"USB 2.0 Camera: Audio\" # for the Nulea cameras\n",
    "#device_label = \"USB Device 0x46d:0x825\" # for the logitech c270 camera (non-functional)\n",
    "\n",
    "try:\n",
    "    del mic\n",
    "except NameError:\n",
    "    pass\n",
    "\n",
    "for index, name in enumerate(sr.Microphone.list_microphone_names()):\n",
    "    print(\"\\\"{1}\\\" : {0}\".format(index, name))\n",
    "    if name.startswith(device_label):\n",
    "        print(\"Found mic with target name\")\n",
    "        mic = sr.Microphone(device_index=index)\n",
    "        break\n",
    "else:\n",
    "    print(\"Could not find specified microphone, using default\")\n",
    "    mic = sr.Microphone()       \n"
   ]
  },
  {
   "cell_type": "code",
   "execution_count": 34,
   "metadata": {},
   "outputs": [
    {
     "name": "stdout",
     "output_type": "stream",
     "text": [
      "stopped listening, sending audio...\n",
      "speech recognised as: forward\n",
      "command: forward\n",
      "stopped listening, sending audio...\n",
      "stopped listening, sending audio...\n",
      "stopped listening, sending audio...\n",
      "speech recognised as: backwood\n",
      "backwood sounds pretty similar to backward, substituting.\n",
      "command: backward\n"
     ]
    },
    {
     "ename": "KeyboardInterrupt",
     "evalue": "",
     "output_type": "error",
     "traceback": [
      "\u001b[0;31m---------------------------------------------------------------------------\u001b[0m",
      "\u001b[0;31mKeyboardInterrupt\u001b[0m                         Traceback (most recent call last)",
      "Cell \u001b[0;32mIn [34], line 29\u001b[0m\n\u001b[1;32m     27\u001b[0m \u001b[39mwhile\u001b[39;00m \u001b[39mTrue\u001b[39;00m:\n\u001b[1;32m     28\u001b[0m     \u001b[39mtry\u001b[39;00m:\n\u001b[0;32m---> 29\u001b[0m         audio \u001b[39m=\u001b[39m r\u001b[39m.\u001b[39;49mlisten(source)\n\u001b[1;32m     31\u001b[0m         \u001b[39mprint\u001b[39m(\u001b[39m\"\u001b[39m\u001b[39mstopped listening, sending audio...\u001b[39m\u001b[39m\"\u001b[39m)\n\u001b[1;32m     32\u001b[0m         recognised_text \u001b[39m=\u001b[39m r\u001b[39m.\u001b[39mrecognize_google(audio)\n",
      "File \u001b[0;32m~/.local/lib/python3.8/site-packages/speech_recognition/__init__.py:620\u001b[0m, in \u001b[0;36mRecognizer.listen\u001b[0;34m(self, source, timeout, phrase_time_limit, snowboy_configuration)\u001b[0m\n\u001b[1;32m    617\u001b[0m \u001b[39mif\u001b[39;00m timeout \u001b[39mand\u001b[39;00m elapsed_time \u001b[39m>\u001b[39m timeout:\n\u001b[1;32m    618\u001b[0m     \u001b[39mraise\u001b[39;00m WaitTimeoutError(\u001b[39m\"\u001b[39m\u001b[39mlistening timed out while waiting for phrase to start\u001b[39m\u001b[39m\"\u001b[39m)\n\u001b[0;32m--> 620\u001b[0m buffer \u001b[39m=\u001b[39m source\u001b[39m.\u001b[39;49mstream\u001b[39m.\u001b[39;49mread(source\u001b[39m.\u001b[39;49mCHUNK)\n\u001b[1;32m    621\u001b[0m \u001b[39mif\u001b[39;00m \u001b[39mlen\u001b[39m(buffer) \u001b[39m==\u001b[39m \u001b[39m0\u001b[39m: \u001b[39mbreak\u001b[39;00m  \u001b[39m# reached end of the stream\u001b[39;00m\n\u001b[1;32m    622\u001b[0m frames\u001b[39m.\u001b[39mappend(buffer)\n",
      "File \u001b[0;32m~/.local/lib/python3.8/site-packages/speech_recognition/__init__.py:161\u001b[0m, in \u001b[0;36mMicrophone.MicrophoneStream.read\u001b[0;34m(self, size)\u001b[0m\n\u001b[1;32m    160\u001b[0m \u001b[39mdef\u001b[39;00m \u001b[39mread\u001b[39m(\u001b[39mself\u001b[39m, size):\n\u001b[0;32m--> 161\u001b[0m     \u001b[39mreturn\u001b[39;00m \u001b[39mself\u001b[39;49m\u001b[39m.\u001b[39;49mpyaudio_stream\u001b[39m.\u001b[39;49mread(size, exception_on_overflow\u001b[39m=\u001b[39;49m\u001b[39mFalse\u001b[39;49;00m)\n",
      "File \u001b[0;32m/usr/lib/python3/dist-packages/pyaudio.py:608\u001b[0m, in \u001b[0;36mStream.read\u001b[0;34m(self, num_frames, exception_on_overflow)\u001b[0m\n\u001b[1;32m    604\u001b[0m \u001b[39mif\u001b[39;00m \u001b[39mnot\u001b[39;00m \u001b[39mself\u001b[39m\u001b[39m.\u001b[39m_is_input:\n\u001b[1;32m    605\u001b[0m     \u001b[39mraise\u001b[39;00m \u001b[39mIOError\u001b[39;00m(\u001b[39m\"\u001b[39m\u001b[39mNot input stream\u001b[39m\u001b[39m\"\u001b[39m,\n\u001b[1;32m    606\u001b[0m                   paCanNotReadFromAnOutputOnlyStream)\n\u001b[0;32m--> 608\u001b[0m \u001b[39mreturn\u001b[39;00m pa\u001b[39m.\u001b[39;49mread_stream(\u001b[39mself\u001b[39;49m\u001b[39m.\u001b[39;49m_stream, num_frames, exception_on_overflow)\n",
      "\u001b[0;31mKeyboardInterrupt\u001b[0m: "
     ]
    }
   ],
   "source": [
    "# mk1 code block for voice control\n",
    "import asyncio\n",
    "\n",
    "async def say(text):\n",
    "    tts_engine.say(text)\n",
    "    await tts_engine.runAndWait()\n",
    "\n",
    "async def perform_action(action):\n",
    "    robot.set_motors(action[0],action[1],action[2],action[3])\n",
    "    await asyncio.sleep(duration)\n",
    "    robot.stop()\n",
    "\n",
    "speed_mul = 0.5\n",
    "turn_mul = 0.5\n",
    "duration = 1\n",
    "command_dict = {\"forward\":[speed_mul,speed_mul,speed_mul,speed_mul],\n",
    "\"backward\":[-speed_mul,-speed_mul,-speed_mul,-speed_mul],\n",
    "\"left\":[-turn_mul,turn_mul,-turn_mul,turn_mul],\n",
    "\"right\":[turn_mul,-turn_mul,turn_mul,-turn_mul]}\n",
    "\n",
    "similarities = {\"backwood\":\"backward\",\n",
    "\"back\":\"backward\",\n",
    "\"light\":\"right\"}\n",
    "\n",
    "with mic as source:\n",
    "    #r.adjust_for_ambient_noise(source)\n",
    "    while True:\n",
    "        try:\n",
    "            audio = r.listen(source)\n",
    "\n",
    "            print(\"stopped listening, sending audio...\")\n",
    "            recognised_text = r.recognize_google(audio)\n",
    "            print(\"speech recognised as:\",recognised_text)\n",
    "\n",
    "            command = recognised_text.split(\" \")[0]\n",
    "\n",
    "            try:\n",
    "                new_command = similarities[command]\n",
    "                print(\"{} sounds pretty similar to {}, substituting.\".format(command,new_command))\n",
    "                command = new_command\n",
    "            except KeyError:\n",
    "                pass\n",
    "            \n",
    "            print(\"command:\",command)\n",
    "\n",
    "            try:\n",
    "                action = command_dict[command]\n",
    "\n",
    "                \"\"\"\n",
    "                tts_engine.say(\"performing command: {}\".format(command))\n",
    "                tts_engine.runAndWait()\n",
    "\n",
    "                robot.set_motors(action[0],action[1],action[2],action[3])\n",
    "                time.sleep(duration)\n",
    "                robot.stop()\n",
    "                \"\"\"\n",
    "\n",
    "                asyncio.gather(say(\"performing command: {}\".format(command)),perform_action(action))\n",
    "\n",
    "            except KeyError:\n",
    "                tts_engine.say(\"I don't recognised the command: {}\".format(command))\n",
    "                tts_engine.runAndWait()\n",
    "                \n",
    "\n",
    "\n",
    "        except sr.UnknownValueError:\n",
    "            pass"
   ]
  }
 ],
 "metadata": {
  "kernelspec": {
   "display_name": "Python 3.8.10 64-bit",
   "language": "python",
   "name": "python3"
  },
  "language_info": {
   "codemirror_mode": {
    "name": "ipython",
    "version": 3
   },
   "file_extension": ".py",
   "mimetype": "text/x-python",
   "name": "python",
   "nbconvert_exporter": "python",
   "pygments_lexer": "ipython3",
   "version": "3.8.10"
  },
  "orig_nbformat": 4,
  "vscode": {
   "interpreter": {
    "hash": "31f2aee4e71d21fbe5cf8b01ff0e069b9275f58929596ceb00d14d90e3e16cd6"
   }
  }
 },
 "nbformat": 4,
 "nbformat_minor": 2
}
