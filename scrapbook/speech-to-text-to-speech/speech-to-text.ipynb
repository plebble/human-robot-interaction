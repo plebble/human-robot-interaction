{
 "cells": [
  {
   "cell_type": "code",
   "execution_count": null,
   "metadata": {
    "scrolled": true
   },
   "outputs": [],
   "source": [
    "\"\"\"\n",
    "\n",
    "Idea:\n",
    "experiment with speech recognition, taking audio from microphone, and outputting as text.\n",
    "\n",
    "sources/documentation:\n",
    "https://realpython.com/python-speech-recognition/\n",
    "    install pyaudio using https://stackoverflow.com/a/60666220\n",
    "        >sudo apt-get install portaudio19-dev python3-pyaudio\n",
    "        >pip install PyAudio\n",
    "\n",
    "\"\"\"\n",
    "\n",
    "import speech_recognition as sr\n",
    "r = sr.Recognizer()\n",
    "\n",
    "filename = \"sample.wav\"\n",
    "\n",
    "r = sr.Recognizer()\n",
    "data = sr.AudioFile(filename)\n",
    "with data as source:\n",
    "    audio = r.record(source)\n",
    "\n",
    "print(r.recognize_google(audio))"
   ]
  },
  {
   "cell_type": "code",
   "execution_count": null,
   "metadata": {},
   "outputs": [],
   "source": [
    "device_label = \"front\"\n",
    "\n",
    "mic_index = -1\n",
    "\n",
    "for index, name in enumerate(sr.Microphone.list_microphone_names()):\n",
    "    print(\"\\\"{1}\\\" : {0}\".format(index, name))\n",
    "    if name.startswith(device_label):\n",
    "        mic_index = index\n",
    "        print(\"Found mic with target name\")\n",
    "        \n",
    "if mic_index == -1:\n",
    "    print(\"could not find mic with target name, using default\")"
   ]
  },
  {
   "cell_type": "code",
   "execution_count": null,
   "metadata": {},
   "outputs": [],
   "source": [
    "if mic_index != -1:\n",
    "    mic = sr.Microphone(device_index=mic_index)\n",
    "else:\n",
    "    mic = sr.Microphone()\n",
    "\n",
    "print(\"running\")\n",
    "with mic as source:\n",
    "    #r.adjust_for_ambient_noise(source)\n",
    "    audio = r.listen(source)\n",
    "\n",
    "print(\"stopped listening, sending audio...\")\n",
    "print(r.recognize_google(audio))"
   ]
  }
 ],
 "metadata": {
  "kernelspec": {
   "display_name": "Python 3.8.10 64-bit",
   "language": "python",
   "name": "python3"
  },
  "language_info": {
   "codemirror_mode": {
    "name": "ipython",
    "version": 3
   },
   "file_extension": ".py",
   "mimetype": "text/x-python",
   "name": "python",
   "nbconvert_exporter": "python",
   "pygments_lexer": "ipython3",
   "version": "3.8.10"
  },
  "vscode": {
   "interpreter": {
    "hash": "916dbcbb3f70747c44a77c7bcd40155683ae19c65e1c03b4aa3499c5328201f1"
   }
  }
 },
 "nbformat": 4,
 "nbformat_minor": 2
}
