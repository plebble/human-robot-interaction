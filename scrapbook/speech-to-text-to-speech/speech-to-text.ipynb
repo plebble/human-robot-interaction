{
 "cells": [
  {
   "cell_type": "code",
   "execution_count": null,
   "metadata": {},
   "outputs": [],
   "source": [
    "\"\"\"\n",
    "\n",
    "Idea:\n",
    "experiment with speech recognition, taking audio from microphone, and outputting as text.\n",
    "\n",
    "sources/documentation:\n",
    "https://realpython.com/python-speech-recognition/\n",
    "    install pyaudio using https://stackoverflow.com/a/60666220\n",
    "        >sudo apt-get install portaudio19-dev python3-pyaudio\n",
    "        >pip install PyAudio\n",
    "\n",
    "\"\"\"\n",
    "\n",
    "import speech_recognition as sr\n",
    "\n",
    "filename = \"scrapbook/speech-to-text-to-speech/sample.wav\"\n",
    "\n",
    "r = sr.Recognizer()\n",
    "data = sr.AudioFile(filename)\n",
    "with data as source:\n",
    "    audio = r.record(source)\n",
    "\n",
    "print(r.recognize_google(audio))"
   ]
  }
 ],
 "metadata": {
  "kernelspec": {
   "display_name": "Python 3.9.7 ('base')",
   "language": "python",
   "name": "python3"
  },
  "language_info": {
   "name": "python",
   "version": "3.9.7"
  },
  "orig_nbformat": 4,
  "vscode": {
   "interpreter": {
    "hash": "51acfa6005ffec5e74e71d844e0daa05d24ac78244a0bb1b7874b497027552e7"
   }
  }
 },
 "nbformat": 4,
 "nbformat_minor": 2
}
