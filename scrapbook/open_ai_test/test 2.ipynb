{
 "cells": [
  {
   "cell_type": "code",
   "execution_count": 13,
   "metadata": {},
   "outputs": [],
   "source": [
    "import os\n",
    "import openai\n",
    "import json\n",
    "import pyttsx3\n",
    "\n",
    "openai.api_key = os.environ[\"OPENAI_KEY\"]\n",
    "\n"
   ]
  },
  {
   "cell_type": "code",
   "execution_count": 14,
   "metadata": {},
   "outputs": [],
   "source": [
    "tts_engine = pyttsx3.init()"
   ]
  },
  {
   "attachments": {},
   "cell_type": "markdown",
   "metadata": {},
   "source": [
    "Response Structure:\n",
    "```\n",
    "response = openai.ChatCompletion.create(\n",
    "\tmodel=\"MODEL_NAME\",\n",
    "\tmessages=[{\"role\": \"system\", \"content\": 'SPECIFY HOW THE AI ASSISTANT SHOULD BEHAVE'},\n",
    "\t\t\t{\"role\": \"user\", \"content\": 'SPECIFY WANT YOU WANT THE AI ASSISTANT TO SAY'}\n",
    "\t])\n",
    "```"
   ]
  },
  {
   "cell_type": "code",
   "execution_count": 25,
   "metadata": {},
   "outputs": [
    {
     "name": "stdout",
     "output_type": "stream",
     "text": [
      "{\n",
      "    \"id\": \"cmpl-7M3o3CjeAh9mDNLJcXTtCJRFlQGwV\",\n",
      "    \"object\": \"text_completion\",\n",
      "    \"created\": 1685492203,\n",
      "    \"model\": \"text-davinci-003\",\n",
      "    \"choices\": [\n",
      "        {\n",
      "            \"text\": \"\",\n",
      "            \"index\": 0,\n",
      "            \"logprobs\": null,\n",
      "            \"finish_reason\": \"stop\"\n",
      "        }\n",
      "    ],\n",
      "    \"usage\": {\n",
      "        \"prompt_tokens\": 83,\n",
      "        \"total_tokens\": 83\n",
      "    }\n",
      "}\n"
     ]
    }
   ],
   "source": [
    "dialogue = \"\"\"\n",
    "\n",
    "Context: The SYSTEM is a small robot designed for human-robot interaction; and replies with short answers.\n",
    "\n",
    "DIALOG START\n",
    "\n",
    "USER: How are you today?\n",
    "\n",
    "SYSTEM: I'm doing great, thanks for asking!\n",
    "\n",
    "USER: What would you like to do today?\n",
    "\n",
    "SYSTEM: I'd like to explore the world and learn new things!\n",
    "\n",
    "\"\"\"\n",
    "\n",
    "response = openai.Completion.create(model = \"text-davinci-003\",prompt=dialogue,n=1,max_tokens=320)\n",
    "print(json.dumps(response,indent=4))\n"
   ]
  },
  {
   "cell_type": "code",
   "execution_count": 16,
   "metadata": {},
   "outputs": [
    {
     "name": "stdout",
     "output_type": "stream",
     "text": [
      "{\n",
      "    \"id\": \"cmpl-7M0qLVFU5GeUITa8HXl6NW0XwckTL\",\n",
      "    \"object\": \"text_completion\",\n",
      "    \"created\": 1685480813,\n",
      "    \"model\": \"text-davinci-003\",\n",
      "    \"choices\": [\n",
      "        {\n",
      "            \"text\": \" four wheels and an exterior body including a front and back side. It has an\",\n",
      "            \"index\": 0,\n",
      "            \"logprobs\": null,\n",
      "            \"finish_reason\": \"length\"\n",
      "        }\n",
      "    ],\n",
      "    \"usage\": {\n",
      "        \"prompt_tokens\": 10,\n",
      "        \"completion_tokens\": 16,\n",
      "        \"total_tokens\": 26\n",
      "    }\n",
      "}\n"
     ]
    }
   ],
   "source": [
    "dialogue =\"\"\"Describing a car:\n",
    "\n",
    "A car has\"\"\"\n",
    "\n",
    "response = openai.Completion.create(model = \"text-davinci-003\",prompt=dialogue,n=1,max_tokens=16)\n",
    "print(json.dumps(response,indent=4))"
   ]
  }
 ],
 "metadata": {
  "kernelspec": {
   "display_name": "Python 3",
   "language": "python",
   "name": "python3"
  },
  "language_info": {
   "codemirror_mode": {
    "name": "ipython",
    "version": 3
   },
   "file_extension": ".py",
   "mimetype": "text/x-python",
   "name": "python",
   "nbconvert_exporter": "python",
   "pygments_lexer": "ipython3",
   "version": "3.8.10"
  },
  "orig_nbformat": 4
 },
 "nbformat": 4,
 "nbformat_minor": 2
}
