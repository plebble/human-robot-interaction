{
 "cells": [
  {
   "cell_type": "code",
   "execution_count": 1,
   "metadata": {},
   "outputs": [],
   "source": [
    "import os\n",
    "import openai\n",
    "import json\n",
    "import pyttsx3\n",
    "\n",
    "openai.api_key = os.environ[\"OPENAI_KEY\"]\n",
    "\n"
   ]
  },
  {
   "cell_type": "code",
   "execution_count": 2,
   "metadata": {},
   "outputs": [],
   "source": [
    "tts_engine = pyttsx3.init()"
   ]
  },
  {
   "attachments": {},
   "cell_type": "markdown",
   "metadata": {},
   "source": [
    "Response Structure:\n",
    "```\n",
    "response = openai.ChatCompletion.create(\n",
    "\tmodel=\"MODEL_NAME\",\n",
    "\tmessages=[{\"role\": \"system\", \"content\": 'SPECIFY HOW THE AI ASSISTANT SHOULD BEHAVE'},\n",
    "\t\t\t{\"role\": \"user\", \"content\": 'SPECIFY WANT YOU WANT THE AI ASSISTANT TO SAY'}\n",
    "\t])\n",
    "```"
   ]
  },
  {
   "cell_type": "code",
   "execution_count": 143,
   "metadata": {},
   "outputs": [
    {
     "name": "stdout",
     "output_type": "stream",
     "text": [
      "{\n",
      "    \"id\": \"cmpl-7LWoVwkaEYswQY2JybDQ9hz5Sei0E\",\n",
      "    \"object\": \"text_completion\",\n",
      "    \"created\": 1685365379,\n",
      "    \"model\": \"text-davinci-003\",\n",
      "    \"choices\": [\n",
      "        {\n",
      "            \"text\": \"\\nSYSTEM: Carlin Dunne finished 2nd in the 2021 Pikes Peak International Hill Climb, riding a Ducati Multistrada.\",\n",
      "            \"index\": 0,\n",
      "            \"logprobs\": null,\n",
      "            \"finish_reason\": \"stop\"\n",
      "        }\n",
      "    ],\n",
      "    \"usage\": {\n",
      "        \"prompt_tokens\": 349,\n",
      "        \"completion_tokens\": 31,\n",
      "        \"total_tokens\": 380\n",
      "    }\n",
      "}\n"
     ]
    }
   ],
   "source": [
    "system_msg = {\"role\":\"system\",\"content\":\"You are to play the role of a small robot designed for human-robot interaction. Please answer with short responses always.\"}\n",
    "\n",
    "user_msg = {\"role\":\"user\",\"content\":\"hello robot, how are you?\"}\n",
    "test_prompt = \"You are to play the role of a small robot designed for human-robot interaction. Answer the question 'where is the bakery' with a short answer.\"\n",
    "dialogue = \"\"\"\n",
    "\n",
    "Context: The SYSTEM is a small robot designed for human-robot interaction; and replies with short answers. It does not reply if it thinks the USER is not finished speaking.\n",
    "\n",
    "DIALOG START\n",
    "\n",
    "USER: How are you today?\n",
    "\n",
    "SYSTEM: I'm doing great. How about you?\n",
    "\n",
    "USER: I'm good thanks. What is your opinion on the use of AI tools in academic work?\n",
    "\n",
    "SYSTEM: AI tools can be beneficial for students, allowing them to do more complex tasks\n",
    "\n",
    "\n",
    "\"\"\"\n",
    "\n",
    "\n",
    "message_list = [system_msg,user_msg]\n",
    "\n",
    "response = openai.Completion.create(model = \"text-davinci-003\",prompt=dialogue,n=1,max_tokens=32)\n",
    "print(json.dumps(response,indent=4))\n"
   ]
  },
  {
   "cell_type": "code",
   "execution_count": 4,
   "metadata": {},
   "outputs": [
    {
     "ename": "KeyError",
     "evalue": "'message'",
     "output_type": "error",
     "traceback": [
      "\u001b[0;31m---------------------------------------------------------------------------\u001b[0m",
      "\u001b[0;31mKeyError\u001b[0m                                  Traceback (most recent call last)",
      "\u001b[1;32m/home/jacob/human-robot-interaction/scrapbook/open_ai_test/test 2.ipynb Cell 5\u001b[0m in \u001b[0;36m1\n\u001b[0;32m----> <a href='vscode-notebook-cell:/home/jacob/human-robot-interaction/scrapbook/open_ai_test/test%202.ipynb#W4sZmlsZQ%3D%3D?line=0'>1</a>\u001b[0m first_response_message \u001b[39m=\u001b[39m response[\u001b[39m\"\u001b[39;49m\u001b[39mchoices\u001b[39;49m\u001b[39m\"\u001b[39;49m][\u001b[39m0\u001b[39;49m][\u001b[39m\"\u001b[39;49m\u001b[39mmessage\u001b[39;49m\u001b[39m\"\u001b[39;49m]\n\u001b[1;32m      <a href='vscode-notebook-cell:/home/jacob/human-robot-interaction/scrapbook/open_ai_test/test%202.ipynb#W4sZmlsZQ%3D%3D?line=2'>3</a>\u001b[0m message_list\u001b[39m.\u001b[39mappend(first_response_message)\n\u001b[1;32m      <a href='vscode-notebook-cell:/home/jacob/human-robot-interaction/scrapbook/open_ai_test/test%202.ipynb#W4sZmlsZQ%3D%3D?line=4'>5</a>\u001b[0m second_user_msg \u001b[39m=\u001b[39m {\u001b[39m\"\u001b[39m\u001b[39mrole\u001b[39m\u001b[39m\"\u001b[39m:\u001b[39m\"\u001b[39m\u001b[39muser\u001b[39m\u001b[39m\"\u001b[39m,\u001b[39m\"\u001b[39m\u001b[39mcontent\u001b[39m\u001b[39m\"\u001b[39m:\u001b[39m\"\u001b[39m\u001b[39mwhat is your opinion on using Open AI to give character to robots?\u001b[39m\u001b[39m\"\u001b[39m}\n",
      "\u001b[0;31mKeyError\u001b[0m: 'message'"
     ]
    }
   ],
   "source": [
    "first_response_message = response[\"choices\"][0][\"message\"]\n",
    "\n",
    "message_list.append(first_response_message)\n",
    "\n",
    "second_user_msg = {\"role\":\"user\",\"content\":\"what is your opinion on using Open AI to give character to robots?\"}\n",
    "\n",
    "message_list.append(second_user_msg)\n",
    "\n",
    "second_user_msg = {\"role\":\"user\",\"content\":\"additionally, what is your favourite robot from a movie?\"}\n",
    "\n",
    "message_list.append(second_user_msg)\n",
    "\n",
    "response = openai.ChatCompletion.create(model = \"gpt-3.5-turbo\",messages = message_list)\n",
    "print(json.dumps(response,indent=4))\n",
    "\n",
    "tts_engine = pyttsx3.init()\n",
    "\n",
    "tts_engine.say(response[\"choices\"][0][\"message\"][\"content\"])\n",
    "\n",
    "tts_engine.runAndWait()"
   ]
  }
 ],
 "metadata": {
  "kernelspec": {
   "display_name": "Python 3",
   "language": "python",
   "name": "python3"
  },
  "language_info": {
   "codemirror_mode": {
    "name": "ipython",
    "version": 3
   },
   "file_extension": ".py",
   "mimetype": "text/x-python",
   "name": "python",
   "nbconvert_exporter": "python",
   "pygments_lexer": "ipython3",
   "version": "3.8.10"
  },
  "orig_nbformat": 4
 },
 "nbformat": 4,
 "nbformat_minor": 2
}
