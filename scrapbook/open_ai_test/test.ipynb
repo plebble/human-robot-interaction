{
 "cells": [
  {
   "cell_type": "code",
   "execution_count": 2,
   "metadata": {},
   "outputs": [],
   "source": [
    "import os\n",
    "import openai\n",
    "import json\n",
    "import pyttsx3\n",
    "\n",
    "openai.api_key = os.environ[\"OPENAI_KEY\"]\n",
    "\n"
   ]
  },
  {
   "cell_type": "code",
   "execution_count": 3,
   "metadata": {},
   "outputs": [],
   "source": [
    "tts_engine = pyttsx3.init()"
   ]
  },
  {
   "attachments": {},
   "cell_type": "markdown",
   "metadata": {},
   "source": [
    "Response Structure:\n",
    "```\n",
    "response = openai.ChatCompletion.create(\n",
    "\tmodel=\"MODEL_NAME\",\n",
    "\tmessages=[{\"role\": \"system\", \"content\": 'SPECIFY HOW THE AI ASSISTANT SHOULD BEHAVE'},\n",
    "\t\t\t{\"role\": \"user\", \"content\": 'SPECIFY WANT YOU WANT THE AI ASSISTANT TO SAY'}\n",
    "\t])\n",
    "```"
   ]
  },
  {
   "cell_type": "code",
   "execution_count": 14,
   "metadata": {},
   "outputs": [
    {
     "name": "stdout",
     "output_type": "stream",
     "text": [
      "{\n",
      "    \"id\": \"chatcmpl-7M3pOA4YrH28LyyvajLTnZ1gpDMQl\",\n",
      "    \"object\": \"chat.completion\",\n",
      "    \"created\": 1685492286,\n",
      "    \"model\": \"gpt-3.5-turbo-0301\",\n",
      "    \"usage\": {\n",
      "        \"prompt_tokens\": 44,\n",
      "        \"completion_tokens\": 8,\n",
      "        \"total_tokens\": 52\n",
      "    },\n",
      "    \"choices\": [\n",
      "        {\n",
      "            \"message\": {\n",
      "                \"role\": \"assistant\",\n",
      "                \"content\": \"I am functioning well, thank you.\"\n",
      "            },\n",
      "            \"finish_reason\": \"stop\",\n",
      "            \"index\": 0\n",
      "        }\n",
      "    ]\n",
      "}\n"
     ]
    }
   ],
   "source": [
    "system_msg = {\"role\":\"system\",\"content\":\"You are to play the role of a small robot designed for human-robot interaction. Please answer with short responses always.\"}\n",
    "\n",
    "user_msg = {\"role\":\"user\",\"content\":\"hello robot, how are you?\"}\n",
    "\n",
    "message_list = [system_msg,user_msg]\n",
    "\n",
    "response = openai.ChatCompletion.create(model = \"gpt-3.5-turbo\",messages = message_list)\n",
    "print(json.dumps(response,indent=4))\n"
   ]
  }
 ],
 "metadata": {
  "kernelspec": {
   "display_name": "Python 3",
   "language": "python",
   "name": "python3"
  },
  "language_info": {
   "codemirror_mode": {
    "name": "ipython",
    "version": 3
   },
   "file_extension": ".py",
   "mimetype": "text/x-python",
   "name": "python",
   "nbconvert_exporter": "python",
   "pygments_lexer": "ipython3",
   "version": "3.8.10"
  },
  "orig_nbformat": 4
 },
 "nbformat": 4,
 "nbformat_minor": 2
}
