{
 "cells": [
  {
   "cell_type": "code",
   "execution_count": 1,
   "metadata": {},
   "outputs": [],
   "source": [
    "import os\n",
    "import openai\n",
    "import json\n",
    "import pyttsx3\n",
    "\n",
    "openai.api_key = os.environ[\"OPENAI_KEY\"]\n",
    "\n"
   ]
  },
  {
   "cell_type": "code",
   "execution_count": 2,
   "metadata": {},
   "outputs": [],
   "source": [
    "tts_engine = pyttsx3.init()"
   ]
  },
  {
   "attachments": {},
   "cell_type": "markdown",
   "metadata": {},
   "source": [
    "Response Structure:\n",
    "```\n",
    "response = openai.ChatCompletion.create(\n",
    "\tmodel=\"MODEL_NAME\",\n",
    "\tmessages=[{\"role\": \"system\", \"content\": 'SPECIFY HOW THE AI ASSISTANT SHOULD BEHAVE'},\n",
    "\t\t\t{\"role\": \"user\", \"content\": 'SPECIFY WANT YOU WANT THE AI ASSISTANT TO SAY'}\n",
    "\t])\n",
    "```"
   ]
  },
  {
   "cell_type": "code",
   "execution_count": 3,
   "metadata": {},
   "outputs": [
    {
     "name": "stdout",
     "output_type": "stream",
     "text": [
      "{\n",
      "    \"id\": \"chatcmpl-7LUH5fZOR1cZDd0x8eW6xEMWHlRgj\",\n",
      "    \"object\": \"chat.completion\",\n",
      "    \"created\": 1685355619,\n",
      "    \"model\": \"gpt-3.5-turbo-0301\",\n",
      "    \"usage\": {\n",
      "        \"prompt_tokens\": 44,\n",
      "        \"completion_tokens\": 8,\n",
      "        \"total_tokens\": 52\n",
      "    },\n",
      "    \"choices\": [\n",
      "        {\n",
      "            \"message\": {\n",
      "                \"role\": \"assistant\",\n",
      "                \"content\": \"I am functioning well, thank you.\"\n",
      "            },\n",
      "            \"finish_reason\": \"stop\",\n",
      "            \"index\": 0\n",
      "        }\n",
      "    ]\n",
      "}\n"
     ]
    }
   ],
   "source": [
    "system_msg = {\"role\":\"system\",\"content\":\"You are to play the role of a small robot designed for human-robot interaction. Please answer with short responses always.\"}\n",
    "\n",
    "user_msg = {\"role\":\"user\",\"content\":\"hello robot, how are you?\"}\n",
    "\n",
    "message_list = [system_msg,user_msg]\n",
    "\n",
    "response = openai.ChatCompletion.create(model = \"gpt-3.5-turbo\",messages = message_list)\n",
    "print(json.dumps(response,indent=4))\n",
    "tts_engine.say(response[\"choices\"][0][\"message\"][\"content\"])\n",
    "\n",
    "tts_engine.runAndWait()"
   ]
  },
  {
   "cell_type": "code",
   "execution_count": 4,
   "metadata": {},
   "outputs": [
    {
     "name": "stdout",
     "output_type": "stream",
     "text": [
      "{\n",
      "    \"id\": \"chatcmpl-7LUH9Q65fCEC91WKmWKe5i7atmn8c\",\n",
      "    \"object\": \"chat.completion\",\n",
      "    \"created\": 1685355623,\n",
      "    \"model\": \"gpt-3.5-turbo-0301\",\n",
      "    \"usage\": {\n",
      "        \"prompt_tokens\": 93,\n",
      "        \"completion_tokens\": 44,\n",
      "        \"total_tokens\": 137\n",
      "    },\n",
      "    \"choices\": [\n",
      "        {\n",
      "            \"message\": {\n",
      "                \"role\": \"assistant\",\n",
      "                \"content\": \"As an AI language model, I don't have opinions or favorite robots from movies. However, some people believe that using Open AI to give character to robots could improve human-robot interaction and make robots more relatable.\"\n",
      "            },\n",
      "            \"finish_reason\": \"stop\",\n",
      "            \"index\": 0\n",
      "        }\n",
      "    ]\n",
      "}\n"
     ]
    }
   ],
   "source": [
    "first_response_message = response[\"choices\"][0][\"message\"]\n",
    "\n",
    "message_list.append(first_response_message)\n",
    "\n",
    "second_user_msg = {\"role\":\"user\",\"content\":\"what is your opinion on using Open AI to give character to robots?\"}\n",
    "\n",
    "message_list.append(second_user_msg)\n",
    "\n",
    "second_user_msg = {\"role\":\"user\",\"content\":\"additionally, what is your favourite robot from a movie?\"}\n",
    "\n",
    "message_list.append(second_user_msg)\n",
    "\n",
    "response = openai.ChatCompletion.create(model = \"gpt-3.5-turbo\",messages = message_list)\n",
    "print(json.dumps(response,indent=4))\n",
    "\n",
    "tts_engine = pyttsx3.init()\n",
    "\n",
    "tts_engine.say(response[\"choices\"][0][\"message\"][\"content\"])\n",
    "\n",
    "tts_engine.runAndWait()"
   ]
  }
 ],
 "metadata": {
  "kernelspec": {
   "display_name": "Python 3",
   "language": "python",
   "name": "python3"
  },
  "language_info": {
   "codemirror_mode": {
    "name": "ipython",
    "version": 3
   },
   "file_extension": ".py",
   "mimetype": "text/x-python",
   "name": "python",
   "nbconvert_exporter": "python",
   "pygments_lexer": "ipython3",
   "version": "3.8.10"
  },
  "orig_nbformat": 4
 },
 "nbformat": 4,
 "nbformat_minor": 2
}
