{
 "cells": [
  {
   "cell_type": "code",
   "execution_count": 2,
   "metadata": {},
   "outputs": [
    {
     "name": "stdout",
     "output_type": "stream",
     "text": [
      "48b07cb3-2fa2-4922-bf85-00aa73f51d9f\n"
     ]
    }
   ],
   "source": [
    "import uuid\n",
    "\n",
    "number = int(uuid.uuid4())\n",
    "print(number)"
   ]
  },
  {
   "cell_type": "code",
   "execution_count": 42,
   "metadata": {},
   "outputs": [
    {
     "name": "stdout",
     "output_type": "stream",
     "text": [
      "454792427\n",
      "(77, 169, 248)\n"
     ]
    }
   ],
   "source": [
    "import numpy as np\n",
    "seed = number & (1<<32)-1\n",
    "print(seed)\n",
    "np.random.seed(seed)\n",
    "\n",
    "np_colour = np.random.randint(0,256,size=3,dtype=np.uint8)\n",
    "colour = (np_colour[0],np_colour[1],np_colour[2])\n",
    "print(colour)"
   ]
  }
 ],
 "metadata": {
  "kernelspec": {
   "display_name": "Python 3",
   "language": "python",
   "name": "python3"
  },
  "language_info": {
   "codemirror_mode": {
    "name": "ipython",
    "version": 3
   },
   "file_extension": ".py",
   "mimetype": "text/x-python",
   "name": "python",
   "nbconvert_exporter": "python",
   "pygments_lexer": "ipython3",
   "version": "3.8.10"
  },
  "orig_nbformat": 4
 },
 "nbformat": 4,
 "nbformat_minor": 2
}
