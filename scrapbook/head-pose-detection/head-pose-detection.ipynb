{
 "cells": [
  {
   "cell_type": "markdown",
   "metadata": {},
   "source": [
    "Taken from https://github.com/thohemp/6DRepNet.\n",
    "\n",
    "The head pose detector needs pre cropped images, so we will use MTCNN. The reasoning behind this is because it is the same detector that they used to produce a training dataset so hopefully it will produce good results here."
   ]
  },
  {
   "cell_type": "code",
   "execution_count": 1,
   "metadata": {},
   "outputs": [
    {
     "name": "stderr",
     "output_type": "stream",
     "text": [
      "2022-11-15 10:54:20.535507: I tensorflow/core/platform/cpu_feature_guard.cc:193] This TensorFlow binary is optimized with oneAPI Deep Neural Network Library (oneDNN) to use the following CPU instructions in performance-critical operations:  AVX2 FMA\n",
      "To enable them in other operations, rebuild TensorFlow with the appropriate compiler flags.\n",
      "2022-11-15 10:54:20.861608: W tensorflow/stream_executor/platform/default/dso_loader.cc:64] Could not load dynamic library 'libcudart.so.11.0'; dlerror: libcudart.so.11.0: cannot open shared object file: No such file or directory; LD_LIBRARY_PATH: /home/jacob/.local/lib/python3.8/site-packages/cv2/../../lib64:\n",
      "2022-11-15 10:54:20.861636: I tensorflow/stream_executor/cuda/cudart_stub.cc:29] Ignore above cudart dlerror if you do not have a GPU set up on your machine.\n",
      "2022-11-15 10:54:20.922488: E tensorflow/stream_executor/cuda/cuda_blas.cc:2981] Unable to register cuBLAS factory: Attempting to register factory for plugin cuBLAS when one has already been registered\n",
      "2022-11-15 10:54:21.830012: W tensorflow/stream_executor/platform/default/dso_loader.cc:64] Could not load dynamic library 'libnvinfer.so.7'; dlerror: libnvinfer.so.7: cannot open shared object file: No such file or directory; LD_LIBRARY_PATH: /home/jacob/.local/lib/python3.8/site-packages/cv2/../../lib64:\n",
      "2022-11-15 10:54:21.830090: W tensorflow/stream_executor/platform/default/dso_loader.cc:64] Could not load dynamic library 'libnvinfer_plugin.so.7'; dlerror: libnvinfer_plugin.so.7: cannot open shared object file: No such file or directory; LD_LIBRARY_PATH: /home/jacob/.local/lib/python3.8/site-packages/cv2/../../lib64:\n",
      "2022-11-15 10:54:21.830100: W tensorflow/compiler/tf2tensorrt/utils/py_utils.cc:38] TF-TRT Warning: Cannot dlopen some TensorRT libraries. If you would like to use Nvidia GPU with TensorRT, please make sure the missing libraries mentioned above are installed properly.\n",
      "2022-11-15 10:54:24.631174: I tensorflow/stream_executor/cuda/cuda_gpu_executor.cc:980] successful NUMA node read from SysFS had negative value (-1), but there must be at least one NUMA node, so returning NUMA node zero\n",
      "2022-11-15 10:54:24.631648: W tensorflow/stream_executor/platform/default/dso_loader.cc:64] Could not load dynamic library 'libcufft.so.10'; dlerror: libcufft.so.10: cannot open shared object file: No such file or directory; LD_LIBRARY_PATH: /home/jacob/.local/lib/python3.8/site-packages/cv2/../../lib64:\n",
      "2022-11-15 10:54:24.631733: W tensorflow/stream_executor/platform/default/dso_loader.cc:64] Could not load dynamic library 'libcurand.so.10'; dlerror: libcurand.so.10: cannot open shared object file: No such file or directory; LD_LIBRARY_PATH: /home/jacob/.local/lib/python3.8/site-packages/cv2/../../lib64:\n",
      "2022-11-15 10:54:24.631815: W tensorflow/stream_executor/platform/default/dso_loader.cc:64] Could not load dynamic library 'libcusolver.so.11'; dlerror: libcusolver.so.11: cannot open shared object file: No such file or directory; LD_LIBRARY_PATH: /home/jacob/.local/lib/python3.8/site-packages/cv2/../../lib64:\n",
      "2022-11-15 10:54:24.631895: W tensorflow/stream_executor/platform/default/dso_loader.cc:64] Could not load dynamic library 'libcusparse.so.11'; dlerror: libcusparse.so.11: cannot open shared object file: No such file or directory; LD_LIBRARY_PATH: /home/jacob/.local/lib/python3.8/site-packages/cv2/../../lib64:\n",
      "2022-11-15 10:54:24.631938: W tensorflow/core/common_runtime/gpu/gpu_device.cc:1934] Cannot dlopen some GPU libraries. Please make sure the missing libraries mentioned above are installed properly if you would like to use GPU. Follow the guide at https://www.tensorflow.org/install/gpu for how to download and setup the required libraries for your platform.\n",
      "Skipping registering GPU devices...\n",
      "2022-11-15 10:54:24.632611: I tensorflow/core/platform/cpu_feature_guard.cc:193] This TensorFlow binary is optimized with oneAPI Deep Neural Network Library (oneDNN) to use the following CPU instructions in performance-critical operations:  AVX2 FMA\n",
      "To enable them in other operations, rebuild TensorFlow with the appropriate compiler flags.\n"
     ]
    }
   ],
   "source": [
    "import cv2\n",
    "import ipywidgets.widgets as widgets\n",
    "from IPython.display import display\n",
    "\n",
    "from mtcnn import MTCNN\n",
    "\n",
    "from SixDRepNet import SixDRepNet\n",
    "\n",
    "face_detector = MTCNN()\n",
    "pose_detector = SixDRepNet()\n",
    "\n",
    "def bgr8_to_jpeg(value):\n",
    "    return bytes(cv2.imencode('.jpg',value)[1])\n",
    "\n",
    "def resize_with_padding(image,target_size):\n",
    "    old_size= image.shape[:2]\n",
    "    print(old_size)\n",
    "    ratio = float(target_size) / max(old_size)\n",
    "    new_dim = (int(old_size[1] * ratio),int(old_size[0] * ratio))\n",
    "    print(new_dim)\n",
    "\n",
    "    image = cv2.resize(image, new_dim)\n",
    "\n",
    "    return image\n"
   ]
  },
  {
   "cell_type": "code",
   "execution_count": 2,
   "metadata": {},
   "outputs": [
    {
     "name": "stdout",
     "output_type": "stream",
     "text": [
      "1/1 [==============================] - 0s 343ms/step\n",
      "1/1 [==============================] - 0s 161ms/step\n",
      "1/1 [==============================] - 0s 63ms/step\n",
      "1/1 [==============================] - 0s 38ms/step\n",
      "1/1 [==============================] - 0s 31ms/step\n",
      "1/1 [==============================] - 0s 22ms/step\n",
      "1/1 [==============================] - 0s 22ms/step\n",
      "1/1 [==============================] - 0s 16ms/step\n",
      "1/1 [==============================] - 0s 18ms/step\n",
      "1/1 [==============================] - 0s 19ms/step\n",
      "1/1 [==============================] - 0s 26ms/step\n",
      "1/1 [==============================] - 0s 17ms/step\n",
      "1/1 [==============================] - 0s 19ms/step\n",
      "9/9 [==============================] - 0s 5ms/step\n",
      "1/1 [==============================] - 0s 102ms/step\n",
      "Detected 1 faces\n",
      "[449, 172, 295, 378]\n",
      "(407, 172)\n",
      "(378, 378, 3)\n"
     ]
    },
    {
     "data": {
      "application/vnd.jupyter.widget-view+json": {
       "model_id": "b15a51c9a8a04550bd49e40e87f91406",
       "version_major": 2,
       "version_minor": 0
      },
      "text/plain": [
       "Image(value=b'\\xff\\xd8\\xff\\xe0\\x00\\x10JFIF\\x00\\x01\\x01\\x00\\x00\\x01\\x00\\x01\\x00\\x00\\xff\\xdb\\x00C\\x00\\x02\\x01\\x0…"
      ]
     },
     "metadata": {},
     "output_type": "display_data"
    }
   ],
   "source": [
    "img = cv2.imread(\"images/image 02.jpg\")\n",
    "\n",
    "\n",
    "detection = face_detector.detect_faces(img)\n",
    "\n",
    "print(\"Detected {} faces\".format(str(len(detection))))\n",
    "\n",
    "for face in detection:\n",
    "    bbox = face[\"box\"]\n",
    "    print(bbox)\n",
    "    # create raw bounding box in blue\n",
    "    img = cv2.rectangle(img,\n",
    "    (bbox[0],bbox[1]),\n",
    "    (bbox[0] + bbox[2],bbox[1] + bbox[3]),\n",
    "    (255,127,0),\n",
    "    2)\n",
    "\n",
    "    # create square centered bounding box in orange\n",
    "\n",
    "    box_size = max(bbox[2:4])\n",
    "    top_left = (int(bbox[0] + (bbox[2]/2) - (box_size/2)),int(bbox[1] + (bbox[3]/2) - (box_size/2)))\n",
    "    print(top_left)\n",
    "    \n",
    "    img = cv2.rectangle(img,\n",
    "    top_left,\n",
    "    (top_left[0] + box_size,top_left[1] + box_size),\n",
    "    (0,127,255),\n",
    "    2)\n",
    "\n",
    "    cropped = img[top_left[1]:top_left[1]+box_size,top_left[0]:top_left[0]+box_size]\n",
    "    print(cropped.shape)\n",
    "\n",
    "image_widget = widgets.Image(format='jpeg', width=512, height=512)\n",
    "image_widget.value = bgr8_to_jpeg(img)\n",
    "display(image_widget)"
   ]
  },
  {
   "cell_type": "code",
   "execution_count": 3,
   "metadata": {},
   "outputs": [
    {
     "name": "stdout",
     "output_type": "stream",
     "text": [
      "[-13.152084] [0.9569228] [0.58643585]\n"
     ]
    },
    {
     "data": {
      "application/vnd.jupyter.widget-view+json": {
       "model_id": "b15a51c9a8a04550bd49e40e87f91406",
       "version_major": 2,
       "version_minor": 0
      },
      "text/plain": [
       "Image(value=b'\\xff\\xd8\\xff\\xe0\\x00\\x10JFIF\\x00\\x01\\x01\\x00\\x00\\x01\\x00\\x01\\x00\\x00\\xff\\xdb\\x00C\\x00\\x02\\x01\\x0…"
      ]
     },
     "metadata": {},
     "output_type": "display_data"
    }
   ],
   "source": [
    "pitch, yaw, roll = pose_detector.predict(cropped)\n",
    "\n",
    "print(pitch, yaw, roll)\n",
    "\n",
    "pose_detector.draw_axis(img, yaw, pitch, roll,int(top_left[0] + box_size/2),int(top_left[1] + box_size/2))\n",
    "\n",
    "image_widget.value = bgr8_to_jpeg(img)\n",
    "display(image_widget)"
   ]
  },
  {
   "cell_type": "code",
   "execution_count": null,
   "metadata": {},
   "outputs": [],
   "source": [
    "video_capture = cv2.VideoCapture()\n",
    "\n",
    "video_capture.set()"
   ]
  }
 ],
 "metadata": {
  "kernelspec": {
   "display_name": "Python 3.8.10 64-bit",
   "language": "python",
   "name": "python3"
  },
  "language_info": {
   "codemirror_mode": {
    "name": "ipython",
    "version": 3
   },
   "file_extension": ".py",
   "mimetype": "text/x-python",
   "name": "python",
   "nbconvert_exporter": "python",
   "pygments_lexer": "ipython3",
   "version": "3.8.10"
  },
  "orig_nbformat": 4,
  "vscode": {
   "interpreter": {
    "hash": "916dbcbb3f70747c44a77c7bcd40155683ae19c65e1c03b4aa3499c5328201f1"
   }
  }
 },
 "nbformat": 4,
 "nbformat_minor": 2
}
