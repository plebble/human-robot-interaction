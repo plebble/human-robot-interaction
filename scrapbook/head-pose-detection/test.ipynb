{
 "cells": [
  {
   "cell_type": "code",
   "execution_count": 1,
   "metadata": {},
   "outputs": [
    {
     "name": "stdout",
     "output_type": "stream",
     "text": [
      "True\n",
      "1\n",
      "0\n",
      "NVIDIA GeForce GTX 1050\n"
     ]
    }
   ],
   "source": [
    "import torch\n",
    "\n",
    "print(torch.cuda.is_available())\n",
    "\n",
    "print(torch.cuda.device_count())\n",
    "\n",
    "print(torch.cuda.current_device())\n",
    "\n",
    "print(torch.cuda.get_device_name(torch.cuda.current_device()))"
   ]
  },
  {
   "cell_type": "code",
   "execution_count": 2,
   "metadata": {},
   "outputs": [
    {
     "data": {
      "application/vnd.jupyter.widget-view+json": {
       "model_id": "09fc1278bf4246ad9626e7881d8d2c6e",
       "version_major": 2,
       "version_minor": 0
      },
      "text/plain": [
       "Image(value=b'', format='jpeg', height='512', width='512')"
      ]
     },
     "metadata": {},
     "output_type": "display_data"
    },
    {
     "data": {
      "application/vnd.jupyter.widget-view+json": {
       "model_id": "fc8b450b36114d298c3e838047ae5136",
       "version_major": 2,
       "version_minor": 0
      },
      "text/plain": [
       "Label(value='default')"
      ]
     },
     "metadata": {},
     "output_type": "display_data"
    }
   ],
   "source": [
    "import ipywidgets.widgets as widgets\n",
    "from IPython.display import display\n",
    "\n",
    "def bgr8_to_jpeg(value):#convert numpy array to jpeg coded data for displaying \n",
    "    return bytes(cv2.imencode('.jpg',value)[1])\n",
    "\n",
    "image_widget = widgets.Image(format='jpeg', width=512, height=512)\n",
    "label_widget = widgets.Label(value=\"default\")\n",
    "display(image_widget,label_widget)"
   ]
  },
  {
   "cell_type": "code",
   "execution_count": 3,
   "metadata": {},
   "outputs": [],
   "source": [
    "from facenet_pytorch import MTCNN\n",
    "import cv2\n",
    "\n",
    "face_detector = MTCNN(select_largest=False,device='cuda')"
   ]
  },
  {
   "cell_type": "code",
   "execution_count": 5,
   "metadata": {},
   "outputs": [
    {
     "name": "stdout",
     "output_type": "stream",
     "text": [
      "(array([[449.7412 , 173.30219, 742.9827 , 551.87225]], dtype=float32), array([0.99956447], dtype=float32))\n"
     ]
    }
   ],
   "source": [
    "\n",
    "\n",
    "frame = cv2.imread(\"images/image 02.jpg\")\n",
    "\n",
    "image_widget.value = bgr8_to_jpeg(frame)\n",
    "\n",
    "face = face_detector.detect(frame)\n",
    "print(face)\n",
    "\n",
    "bbox_list = face[0]\n",
    "for bbox in bbox_list:\n",
    "    box_x1 = int(bbox[0])\n",
    "    box_y1 = int(bbox[1])\n",
    "    box_x2 = int(bbox[2])\n",
    "    box_y2 = int(bbox[3])\n",
    "\n",
    "    frame = cv2.rectangle(frame,\n",
    "            (box_x1,box_y1),\n",
    "            (box_x2, box_y2),\n",
    "            (255,127,0),\n",
    "            2)\n",
    "\n",
    "image_widget.value = bgr8_to_jpeg(frame)"
   ]
  }
 ],
 "metadata": {
  "kernelspec": {
   "display_name": "Python 3",
   "language": "python",
   "name": "python3"
  },
  "language_info": {
   "codemirror_mode": {
    "name": "ipython",
    "version": 3
   },
   "file_extension": ".py",
   "mimetype": "text/x-python",
   "name": "python",
   "nbconvert_exporter": "python",
   "pygments_lexer": "ipython3",
   "version": "3.8.10"
  },
  "orig_nbformat": 4
 },
 "nbformat": 4,
 "nbformat_minor": 2
}
