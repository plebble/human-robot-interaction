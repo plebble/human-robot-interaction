{
 "cells": [
  {
   "cell_type": "code",
   "execution_count": null,
   "metadata": {},
   "outputs": [],
   "source": [
    "import cv2\n",
    "import base64\n",
    "import json\n",
    "import numpy as np\n",
    "import sys\n",
    "\n",
    "import ipywidgets.widgets as widgets\n",
    "from IPython.display import display\n",
    "\n",
    "def bgr8_to_jpeg(value):#convert numpy array to jpeg coded data for displaying \n",
    "    return bytes(cv2.imencode('.jpg',value)[1])\n",
    "\n",
    "image_widget = widgets.Image(format='jpeg', width=512, height=512)\n",
    "display(image_widget)\n",
    "\n",
    "camera = cv2.VideoCapture(0)\n",
    "ret, frame = camera.read()\n",
    "image_widget.value = bgr8_to_jpeg(frame)\n",
    "\n",
    "print(\"size:\",sys.getsizeof(frame))\n",
    "\n",
    "camera.release()"
   ]
  },
  {
   "cell_type": "code",
   "execution_count": null,
   "metadata": {},
   "outputs": [],
   "source": [
    "def b64_jpg_encode(image):\n",
    "    ret, jpg_encoded = cv2.imencode(\".jpg\",frame)\n",
    "\n",
    "    return base64.b64encode(jpg_encoded).decode()\n",
    "\n",
    "dict = {}\n",
    "\n",
    "dict[\"image\"] = {}\n",
    "dict[\"image\"][\"dimensions\"] = list(frame.shape)\n",
    "dict[\"image\"][\"encoding\"] = \"b64_jpg\"\n",
    "dict[\"image\"][\"data\"] = str(b64_jpg_encode(frame))\n",
    "\n",
    "print(json.dumps(dict, indent=4))\n",
    "\n",
    "print(\"size:\",sys.getsizeof(dict))\n",
    "\n"
   ]
  },
  {
   "cell_type": "code",
   "execution_count": null,
   "metadata": {},
   "outputs": [],
   "source": [
    "def b64_jpg_decode(encoded):\n",
    "    jpg_bytes = base64.b64decode(encoded)\n",
    "\n",
    "    np_frame = np.frombuffer(jpg_bytes, dtype=np.uint8)\n",
    "    return cv2.imdecode(np_frame,flags=1)\n",
    "\n",
    "\n",
    "data = dict[\"image\"][\"data\"]\n",
    "print(data)\n",
    "new_frame = b64_jpg_decode(data)\n",
    "\n",
    "image_widget2 = widgets.Image(format='jpeg', width=512, height=512)\n",
    "display(image_widget2)\n",
    "\n",
    "image_widget2.value = bgr8_to_jpeg(new_frame)\n",
    "print(new_frame.shape)\n",
    "print(\"size:\",sys.getsizeof(new_frame))\n"
   ]
  }
 ],
 "metadata": {
  "kernelspec": {
   "display_name": "Python 3",
   "language": "python",
   "name": "python3"
  },
  "language_info": {
   "codemirror_mode": {
    "name": "ipython",
    "version": 3
   },
   "file_extension": ".py",
   "mimetype": "text/x-python",
   "name": "python",
   "nbconvert_exporter": "python",
   "pygments_lexer": "ipython3",
   "version": "3.8.6"
  },
  "orig_nbformat": 4,
  "vscode": {
   "interpreter": {
    "hash": "692c633cb283548fe6564a548fee1104f5c4c3492fe2b5e76557d592fbbdc154"
   }
  }
 },
 "nbformat": 4,
 "nbformat_minor": 2
}
